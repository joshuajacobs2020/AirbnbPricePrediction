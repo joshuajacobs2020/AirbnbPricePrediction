{
 "cells": [
  {
   "cell_type": "code",
   "execution_count": 1,
   "metadata": {},
   "outputs": [],
   "source": [
    "# import packages\n",
    "import numpy as np\n",
    "import pandas as pd\n",
    "import matplotlib.pyplot as plt"
   ]
  },
  {
   "cell_type": "code",
   "execution_count": 2,
   "metadata": {},
   "outputs": [
    {
     "name": "stderr",
     "output_type": "stream",
     "text": [
      "C:\\Users\\jerry\\AppData\\Local\\Temp\\ipykernel_15940\\3403701220.py:2: DtypeWarning: Columns (13,26,27) have mixed types. Specify dtype option on import or set low_memory=False.\n",
      "  df = pd.read_csv('Data/AirbnbCleaned.csv')\n"
     ]
    },
    {
     "data": {
      "text/plain": [
       "Unnamed: 0                          int64\n",
       "index                               int64\n",
       "id                                  int64\n",
       "NAME                               object\n",
       "host id                             int64\n",
       "host_identity_verified             object\n",
       "host name                          object\n",
       "neighbourhood group                object\n",
       "neighbourhood                      object\n",
       "lat                               float64\n",
       "long                              float64\n",
       "country                            object\n",
       "country code                       object\n",
       "instant_bookable                   object\n",
       "cancellation_policy                object\n",
       "room type                          object\n",
       "Construction year                 float64\n",
       "price                               int64\n",
       "service fee                         int64\n",
       "minimum nights                    float64\n",
       "number of reviews                 float64\n",
       "last review                        object\n",
       "reviews per month                 float64\n",
       "review rate number                float64\n",
       "calculated host listings count    float64\n",
       "availability 365                  float64\n",
       "house_rules                        object\n",
       "license                            object\n",
       "totprice                            int64\n",
       "Bronx                               int64\n",
       "Brooklyn                            int64\n",
       "Manhattan                           int64\n",
       "Queens                              int64\n",
       "Staten Island                       int64\n",
       "house_rules_length                  int64\n",
       "cancellation_flexible               int64\n",
       "cancellation_moderate               int64\n",
       "cancellation_strict                 int64\n",
       "instant_bookable_dummy              int64\n",
       "Entire home/apt                     int64\n",
       "Hotel room                          int64\n",
       "Private room                        int64\n",
       "Shared room                         int64\n",
       "textfeat1                         float64\n",
       "textfeat2                         float64\n",
       "dtype: object"
      ]
     },
     "execution_count": 2,
     "metadata": {},
     "output_type": "execute_result"
    }
   ],
   "source": [
    "# import cleaned data\n",
    "df = pd.read_csv('Data/AirbnbCleaned.csv')\n",
    "df.dtypes"
   ]
  },
  {
   "cell_type": "code",
   "execution_count": null,
   "metadata": {},
   "outputs": [],
   "source": [
    "from sklearn.model_selection import train_test_split\n",
    "split_data = train_test_split(df, test_size=0.2, random_state=1)\n",
    "train_data = split_data[0]\n",
    "test_data = split_data[1]\n",
    "\n"
   ]
  }
 ],
 "metadata": {
  "kernelspec": {
   "display_name": "Python 3",
   "language": "python",
   "name": "python3"
  },
  "language_info": {
   "codemirror_mode": {
    "name": "ipython",
    "version": 3
   },
   "file_extension": ".py",
   "mimetype": "text/x-python",
   "name": "python",
   "nbconvert_exporter": "python",
   "pygments_lexer": "ipython3",
   "version": "3.11.5"
  }
 },
 "nbformat": 4,
 "nbformat_minor": 2
}
